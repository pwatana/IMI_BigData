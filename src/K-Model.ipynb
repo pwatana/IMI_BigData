{
 "cells": [
  {
   "cell_type": "code",
   "execution_count": null,
   "metadata": {},
   "outputs": [
    {
     "ename": "ModuleNotFoundError",
     "evalue": "No module named 'pandas'",
     "output_type": "error",
     "traceback": [
      "\u001b[0;31m---------------------------------------------------------------------------\u001b[0m",
      "\u001b[0;31mModuleNotFoundError\u001b[0m                       Traceback (most recent call last)",
      "Cell \u001b[0;32mIn[4], line 1\u001b[0m\n\u001b[0;32m----> 1\u001b[0m \u001b[38;5;28;01mimport\u001b[39;00m\u001b[38;5;250m \u001b[39m\u001b[38;5;21;01mpandas\u001b[39;00m\u001b[38;5;250m \u001b[39m\u001b[38;5;28;01mas\u001b[39;00m\u001b[38;5;250m \u001b[39m\u001b[38;5;21;01mpd\u001b[39;00m\n\u001b[1;32m      2\u001b[0m \u001b[38;5;28;01mimport\u001b[39;00m\u001b[38;5;250m \u001b[39m\u001b[38;5;21;01mnumpy\u001b[39;00m\u001b[38;5;250m \u001b[39m\u001b[38;5;28;01mas\u001b[39;00m\u001b[38;5;250m \u001b[39m\u001b[38;5;21;01mnp\u001b[39;00m\n\u001b[1;32m      4\u001b[0m abm \u001b[38;5;241m=\u001b[39m pd\u001b[38;5;241m.\u001b[39mread_csv(\u001b[38;5;124m\"\u001b[39m\u001b[38;5;124mabm.csv\u001b[39m\u001b[38;5;124m\"\u001b[39m)\n",
      "\u001b[0;31mModuleNotFoundError\u001b[0m: No module named 'pandas'"
     ]
    }
   ],
   "source": [
    "import pandas as pd\n",
    "import numpy as np\n",
    "\n",
    "abm = pd.read_csv(\"abm.csv\")\n",
    "card = pd.read_csv(\"card.csv\")\n",
    "cheque = pd.read_csv(\"cheque.csv\")\n",
    "eft = pd.read_csv(\"eft.csv\")\n",
    "emt = pd.read_csv(\"emt.csv\")\n",
    "kyc = pd.read_csv(\"kyc.csv\")\n",
    "kyc_industry_codes = pd.read_csv(\"kyc_industry_codes.csv\")\n",
    "wire = pd.read_csv(\"wire.csv\")\n",
    "\n",
    "emt['debit_credit'] = emt['debit_credit'].map({'C': 'credit', 'D': 'debit'})\n",
    "\n",
    "# Add transaction type and ID columns\n",
    "abm['transaction_type'] = 'ABM'\n",
    "abm['transaction_id'] = abm['abm_id']\n",
    "card['transaction_type'] = 'Card'\n",
    "card['transaction_id'] = card['card_trxn_id']\n",
    "cheque['transaction_type'] = 'Cheque'\n",
    "cheque['transaction_id'] = cheque['cheque_id']\n",
    "eft['transaction_type'] = 'EFT'\n",
    "eft['transaction_id'] = eft['eft_id']\n",
    "emt['transaction_type'] = 'EMT'\n",
    "emt['transaction_id'] = emt['emt_id']\n",
    "wire['transaction_type'] = 'Wire'\n",
    "wire['transaction_id'] = wire['wire_id']\n",
    "\n",
    "# Standardize column names and select relevant columns\n",
    "abm = abm[['transaction_id', 'customer_id', 'amount_cad', 'debit_credit', 'transaction_date', 'transaction_time', 'transaction_type']]\n",
    "card = card[['transaction_id', 'customer_id', 'amount_cad', 'debit_credit', 'transaction_date', 'transaction_time', 'transaction_type']]\n",
    "cheque = cheque[['transaction_id', 'customer_id', 'amount_cad', 'debit_credit', 'transaction_date', 'transaction_type']]\n",
    "eft = eft[['transaction_id', 'customer_id', 'amount_cad', 'debit_credit', 'transaction_date', 'transaction_time', 'transaction_type']]\n",
    "emt = emt[['transaction_id', 'customer_id', 'amount_cad', 'debit_credit', 'transaction_date', 'transaction_time', 'transaction_type']]\n",
    "wire = wire[['transaction_id', 'customer_id', 'amount_cad', 'debit_credit', 'transaction_date', 'transaction_time', 'transaction_type']]\n",
    "\n",
    "transactions = pd.concat([abm, card, cheque, eft, emt, wire], ignore_index=True)\n",
    "transactions['transaction_date'] = pd.to_datetime(transactions['transaction_date'])\n",
    "transactions['transaction_datetime'] = transactions.apply(lambda row: pd.to_datetime(row['transaction_date'].strftime('%Y-%m-%d') + ' ' + (row['transaction_time'] if isinstance(row.get('transaction_time'), str) else '00:00:00')), axis=1)\n",
    "transactions = transactions.drop(columns=['transaction_date', 'transaction_time'])\n",
    "\n",
    "# Merge with KYC data\n",
    "merged_data = pd.merge(transactions, kyc, on='customer_id', how='left')\n",
    "\n",
    "# Reorder columns\n",
    "merged_data = merged_data[['transaction_id', 'customer_id', 'amount_cad', 'debit_credit', 'transaction_datetime', 'transaction_type', 'country', 'province', 'city', 'industry_code', 'employee_count', 'sales', 'established_date', 'onboard_date']]\n",
    "\n",
    "\n",
    "print(merged_data.head())\n",
    "print(merged_data.info())\n",
    "\n",
    "merged_data.to_csv(\"merged_data.csv\", index=False)"
   ]
  },
  {
   "cell_type": "code",
   "execution_count": null,
   "metadata": {},
   "outputs": [],
   "source": []
  },
  {
   "cell_type": "code",
   "execution_count": null,
   "metadata": {},
   "outputs": [],
   "source": [
    "# Industry average for each transaction type, diff between the average and the transaction amount\n",
    "# "
   ]
  }
 ],
 "metadata": {
  "kernelspec": {
   "display_name": "Python 3",
   "language": "python",
   "name": "python3"
  },
  "language_info": {
   "codemirror_mode": {
    "name": "ipython",
    "version": 3
   },
   "file_extension": ".py",
   "mimetype": "text/x-python",
   "name": "python",
   "nbconvert_exporter": "python",
   "pygments_lexer": "ipython3",
   "version": "3.9.6"
  }
 },
 "nbformat": 4,
 "nbformat_minor": 4
}
